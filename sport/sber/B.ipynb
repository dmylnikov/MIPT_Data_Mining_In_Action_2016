{
 "cells": [
  {
   "cell_type": "code",
   "execution_count": 1,
   "metadata": {
    "collapsed": false
   },
   "outputs": [
    {
     "name": "stderr",
     "output_type": "stream",
     "text": [
      "/home/dmitry/miniconda2/lib/python2.7/site-packages/sklearn/cross_validation.py:44: DeprecationWarning: This module was deprecated in version 0.18 in favor of the model_selection module into which all the refactored classes and functions are moved. Also note that the interface of the new CV iterators are different from that of this module. This module will be removed in 0.20.\n",
      "  \"This module will be removed in 0.20.\", DeprecationWarning)\n"
     ]
    }
   ],
   "source": [
    "from __future__ import division\n",
    "import pandas as pd\n",
    "import numpy as np\n",
    "import seaborn as sns\n",
    "import xgboost as xgb\n",
    "import matplotlib.pyplot as plt\n",
    "import matplotlib as mpl\n",
    "%matplotlib inline"
   ]
  },
  {
   "cell_type": "code",
   "execution_count": 83,
   "metadata": {
    "collapsed": false
   },
   "outputs": [
    {
     "name": "stdout",
     "output_type": "stream",
     "text": [
      "       mcc_code  day       amount  year  dayw  daym  month\n",
      "0          4814    0 -11098744.26     0     4     1      8\n",
      "51184      4215    0    -26271.82     0     4     1      8\n",
      "18280      7298    0   -100280.14     0     4     1      8\n",
      "82717      1731    0         0.00     0     4     1      8\n",
      "50727      7932    0         0.00     0     4     1      8\n",
      "(84088, 7)\n",
      "(5520, 6)\n"
     ]
    }
   ],
   "source": [
    "# 1 aug 2014 - 31 oct 2015, 153 1 jan 2015\n",
    "trans = pd.read_csv('data/transactions.csv')\n",
    "customers_gender = pd.read_csv('data/customers_gender_train.csv')\n",
    "mcc_desc = pd.read_csv('data/tr_mcc_codes.csv', delimiter=';')\n",
    "trans['day'] = trans['tr_datetime'].str.split().str[0].astype(int)\n",
    "# amount\n",
    "trans = trans[trans.amount < 0].copy()\n",
    "# trans = trans.where((trans.amount/2.245915772).round(2)!=-3e7, 0) # that strange guy\n",
    "# print trans[trans.customer_id==48281795]\n",
    "# trans['amount'] = (trans['amount']/2.245915772).round(2)\n",
    "\n",
    "train = pd.DataFrame(columns=trans.mcc_code.unique(), index=trans.day.unique())\n",
    "train = train.unstack().reset_index().dropna(axis=1)\n",
    "train.columns = ['mcc_code', 'day']\n",
    "train = pd.merge(train, trans.groupby(['day', 'mcc_code'])[['amount']].sum().reset_index(), how='left').fillna(0)\n",
    "\n",
    "# def f(group):\n",
    "#     group.amount.where(group.amount > 0.99 * group.amount.min(), 0, inplace=True)\n",
    "#     return group\n",
    "# train = train.groupby('mcc_code').apply(f)\n",
    "\n",
    "test = pd.DataFrame(columns=trans.mcc_code.unique(), index=range(457, 487))\n",
    "test = test.unstack().reset_index().dropna(axis=1)\n",
    "test.columns = ['mcc_code', 'day']\n",
    "\n",
    "for table in [train, test]:\n",
    "#     table['dayy'] = np.where(table['day']>=153, table['day'] - 152, table['day'] - 152 + 365)\n",
    "    table['year'] = np.where(table['day'] < 365, 0, 1)\n",
    "    table['dayw'] = (table['day'] - 3) % 7\n",
    "    monthes = np.array([0, 31, 30, 31, 30, 31, 31, 28, 31, 30, 31, 30, 31, 31, 30, 31, 30]).cumsum()# in month\n",
    "    table['daym'] = table['day'] + 1\n",
    "    table['month'] = 0\n",
    "    for i in range(len(monthes)-1):\n",
    "        cond = (table.day + 1 > monthes[i]) & (table.day + 1 <= monthes[i+1]) & (table.month == 0)\n",
    "        table.ix[cond, 'month'] = (i + 7) % 12 + 1\n",
    "        table.ix[cond, 'daym'] = table.daym - monthes[i]\n",
    "        \n",
    "    holidays = [[0,11,3], [0,11,4],\n",
    "                [1,1,1],[1,1,2],[1,1,3],[1,1,4],[1,1,5],[1,1,6],[1,1,7],[1,1,8],[1,1,9],[1,1,10],[1,1,11],\n",
    "                [1,2,23], [1,3,9],\n",
    "                [1,5,1],[1,5,2],[1,5,3],[1,5,4],[1,5,9],[1,5,10],[1,5,11],\n",
    "                [1,6,12],\n",
    "                [1,11,4]]\n",
    "    for h in holidays:\n",
    "        table.ix[(table.year==h[0]) & (table.month==h[1]) & (table.daym==h[2]), 'dayw'] = 6\n",
    "\n",
    "train = train.sort_values('day')\n",
    "print train.head()\n",
    "print train.shape\n",
    "print test.shape\n",
    "\n",
    "X = train.drop('amount', axis=1)\n",
    "Y = train['amount']\n",
    "Y = np.log(-Y + 500)\n",
    "del trans\n",
    "# del train\n",
    "\n",
    "alpha = 1/15\n",
    "n = int((1 - alpha) * X.shape[0])\n",
    "X_train, X_test, Y_train, y_test = X[:n], X[n:], Y[:n], Y[n:]"
   ]
  },
  {
   "cell_type": "code",
   "execution_count": 73,
   "metadata": {
    "collapsed": false
   },
   "outputs": [],
   "source": [
    "def xgb_train_test(params, n_est):\n",
    "    xgb_train = xgb.DMatrix(data=X_train, label=Y_train)\n",
    "    xgb_test = xgb.DMatrix(data=X_test, label=y_test)\n",
    "    evals = [(xgb_train, 'train'), (xgb_test, 'test')]\n",
    "    model = xgb.train(params, xgb_train, n_est, evals, verbose_eval=50, early_stopping_rounds=100)\n",
    "    print model.best_iteration, model.best_score\n",
    "    return model.best_iteration\n",
    "\n",
    "def xgb_train_fit(params, n_est):\n",
    "    xgb_train = xgb.DMatrix(data=X, label=Y)\n",
    "    model = xgb.train(params, xgb_train, n_est)\n",
    "    return model.predict(xgb.DMatrix(test))"
   ]
  },
  {
   "cell_type": "code",
   "execution_count": 63,
   "metadata": {
    "collapsed": false
   },
   "outputs": [],
   "source": [
    "# 1.773575 baseline\n",
    "# 1.574618 dayy, dayw\n",
    "# 1.574071         1.70277 year, month, dayw, daym, rate=0.1\n",
    "# 1.564839       1.697663 year, month, dayw, daym, rate=0.01\n",
    "# 1.573185 1.51007 1.670133 year, month, dayw, daym, holiday, rate=0.1\n",
    "#6 1.564023 year, month, dayw, daym, holiday, rate=0.03\n",
    "# 1.609381       1.700743 0.99 max amount cut\n",
    "# 1.58443 1.52236 del 30 million transactions\n",
    "\n",
    "params = {\n",
    "'nthread': 24,\n",
    "'booster': 'gbtree',\n",
    "'objective': 'reg:linear',\n",
    "'eval_metric': 'rmse',\n",
    "'learning_rate': 0.1,\n",
    "'n_estimators': 400,\n",
    "'max_depth': 5,\n",
    "'min_child_weight': 1,\n",
    "'gamma': 0,\n",
    "'subsample': 0.6,\n",
    "'colsample_bytree': 0.8,\n",
    "'silent': 0,\n",
    "}"
   ]
  },
  {
   "cell_type": "code",
   "execution_count": 84,
   "metadata": {
    "collapsed": false
   },
   "outputs": [
    {
     "name": "stdout",
     "output_type": "stream",
     "text": [
      "[0]\ttrain-rmse:9.52214\ttest-rmse:9.78085\n",
      "Multiple eval metrics have been passed: 'test-rmse' will be used for early stopping.\n",
      "\n",
      "Will train until test-rmse hasn't improved in 100 rounds.\n",
      "[50]\ttrain-rmse:2.27614\ttest-rmse:2.2588\n",
      "[100]\ttrain-rmse:1.95646\ttest-rmse:1.96038\n",
      "[150]\ttrain-rmse:1.73403\ttest-rmse:1.75697\n",
      "[200]\ttrain-rmse:1.63585\ttest-rmse:1.67171\n",
      "[250]\ttrain-rmse:1.59867\ttest-rmse:1.63803\n",
      "[300]\ttrain-rmse:1.56376\ttest-rmse:1.60713\n",
      "[350]\ttrain-rmse:1.54592\ttest-rmse:1.59173\n",
      "[400]\ttrain-rmse:1.53281\ttest-rmse:1.58419\n",
      "[450]\ttrain-rmse:1.52268\ttest-rmse:1.57994\n",
      "[500]\ttrain-rmse:1.51443\ttest-rmse:1.57407\n",
      "[550]\ttrain-rmse:1.50863\ttest-rmse:1.57845\n",
      "[600]\ttrain-rmse:1.50225\ttest-rmse:1.57753\n",
      "Stopping. Best iteration:\n",
      "[538]\ttrain-rmse:1.51007\ttest-rmse:1.57319\n",
      "\n",
      "538 1.573185\n"
     ]
    }
   ],
   "source": [
    "n_est = xgb_train_test(params, n_est=10000)"
   ]
  },
  {
   "cell_type": "code",
   "execution_count": 85,
   "metadata": {
    "collapsed": false
   },
   "outputs": [
    {
     "name": "stdout",
     "output_type": "stream",
     "text": [
      "   mcc_code  day  year  dayw  daym  month     volume\n",
      "0      4814  457     1     6     1     11  5772191.0\n",
      "1      4814  458     1     0     2     11  8633823.0\n",
      "2      4814  459     1     1     3     11  8611931.0\n",
      "3      4814  460     1     6     4     11  5476797.5\n",
      "4      4814  461     1     3     5     11  9302597.0\n"
     ]
    }
   ],
   "source": [
    "# train fit write\n",
    "res = test.copy()\n",
    "res['volume'] = np.e ** xgb_train_fit(params, n_est=300) - 500\n",
    "res.ix[res.volume < 0, 'volume'] = 0\n",
    "res[['mcc_code', 'day', 'volume']].to_csv('b.csv', index=False)\n",
    "print res.head()"
   ]
  },
  {
   "cell_type": "code",
   "execution_count": 3,
   "metadata": {
    "collapsed": false
   },
   "outputs": [
    {
     "name": "stdout",
     "output_type": "stream",
     "text": [
      "4814\n"
     ]
    },
    {
     "name": "stderr",
     "output_type": "stream",
     "text": [
      "/home/dmitry/miniconda2/lib/python2.7/site-packages/matplotlib/font_manager.py:1288: UserWarning: findfont: Font family [u'Liberation Serif'] not found. Falling back to Bitstream Vera Sans\n",
      "  (prop.get_family(), self.defaultFamily[fontext]))\n"
     ]
    },
    {
     "data": {
      "image/png": "[encoded data removed]",
      "text/plain": [
       "<matplotlib.figure.Figure at 0x7f4524a6bad0>"
      ]
     },
     "metadata": {},
     "output_type": "display_data"
    }
   ],
   "source": [
    "for mcc in train.mcc_code.unique():\n",
    "    print mcc\n",
    "    i = train.mcc_code==mcc\n",
    "    y = -train[i]['amount']\n",
    "#     plt.plot(-train.loc[i][['day','amount']].values)\n",
    "    plt.hist(y, 80, weights=y)\n",
    "    plt.title(mcc_desc[mcc_desc.mcc_code==mcc]['mcc_description'].to_string())\n",
    "    plt.savefig('fig/'+str(mcc)+'.png')\n",
    "    plt.clf()\n",
    "# a = train.groupby('day')['amount'].sum().reset_index()\n",
    "# plt.hist(a.amount, bins=100)"
   ]
  },
  {
   "cell_type": "code",
   "execution_count": null,
   "metadata": {
    "collapsed": true
   },
   "outputs": [],
   "source": []
  }
 ],
 "metadata": {
  "anaconda-cloud": {},
  "kernelspec": {
   "display_name": "Python [default]",
   "language": "python",
   "name": "python2"
  },
  "language_info": {
   "codemirror_mode": {
    "name": "ipython",
    "version": 2
   },
   "file_extension": ".py",
   "mimetype": "text/x-python",
   "name": "python",
   "nbconvert_exporter": "python",
   "pygments_lexer": "ipython2",
   "version": "2.7.12"
  }
 },
 "nbformat": 4,
 "nbformat_minor": 1
}
